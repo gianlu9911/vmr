{
  "nbformat": 4,
  "nbformat_minor": 0,
  "metadata": {
    "colab": {
      "provenance": [],
      "gpuType": "T4"
    },
    "kernelspec": {
      "name": "python3",
      "display_name": "Python 3"
    },
    "language_info": {
      "name": "python"
    },
    "accelerator": "GPU"
  },
  "cells": [
    {
      "cell_type": "markdown",
      "source": [
        "# Evaluation of SSL methods\n",
        "\n",
        "In this session we are going to implement the following evaluation modalities of SSL methods:\n",
        "- kNN classifier\n",
        "- linear probe\n",
        "- MLP\n",
        "\n",
        "We are going to use the ImageNet pretrained model of pytorch as pretrained model and test their performance of CIFAR10 (as we have already done in the CNN lab classes before in the course)."
      ],
      "metadata": {
        "id": "CG9Ne_T8sMHm"
      }
    },
    {
      "cell_type": "code",
      "source": [
        "import torch\n",
        "import torchvision\n",
        "import torchvision.transforms as transforms\n",
        "import torchvision.models as models\n",
        "import torch.nn as nn\n",
        "import torch.optim as optim\n",
        "from sklearn.neighbors import KNeighborsClassifier"
      ],
      "metadata": {
        "id": "JUoCU28isLeK"
      },
      "execution_count": 19,
      "outputs": []
    },
    {
      "cell_type": "code",
      "source": [
        "transform_train = transforms.Compose([\n",
        "    transforms.RandomCrop(32, padding=4),\n",
        "    transforms.RandomHorizontalFlip(),\n",
        "    transforms.ToTensor(),\n",
        "    transforms.Normalize((0.4914, 0.4822, 0.4465), (0.2023, 0.1994, 0.2010)),\n",
        "])\n",
        "\n",
        "transform_test = transforms.Compose([\n",
        "    transforms.ToTensor(),\n",
        "    transforms.Normalize((0.4914, 0.4822, 0.4465), (0.2023, 0.1994, 0.2010)),\n",
        "])\n",
        "\n",
        "\n",
        "batch_size = 64\n",
        "\n",
        "device = torch.device('cuda')\n",
        "\n",
        "trainset = torchvision.datasets.CIFAR10(root='./data', train=True,\n",
        "                                        download=True, transform=transform_train)\n",
        "trainloader = torch.utils.data.DataLoader(trainset, batch_size=batch_size,\n",
        "                                          shuffle=True, num_workers=2)\n",
        "\n",
        "testset = torchvision.datasets.CIFAR10(root='./data', train=False,\n",
        "                                       download=True, transform=transform_test)\n",
        "testloader = torch.utils.data.DataLoader(testset, batch_size=batch_size,\n",
        "                                         shuffle=False, num_workers=2)\n"
      ],
      "metadata": {
        "colab": {
          "base_uri": "https://localhost:8080/"
        },
        "outputId": "6c4887ea-ad9c-40de-8067-4a7a47f822a2",
        "id": "I8y-Cp-GlTRR"
      },
      "execution_count": 2,
      "outputs": [
        {
          "output_type": "stream",
          "name": "stdout",
          "text": [
            "Downloading https://www.cs.toronto.edu/~kriz/cifar-10-python.tar.gz to ./data/cifar-10-python.tar.gz\n"
          ]
        },
        {
          "output_type": "stream",
          "name": "stderr",
          "text": [
            "100%|██████████| 170M/170M [00:12<00:00, 13.2MB/s]\n"
          ]
        },
        {
          "output_type": "stream",
          "name": "stdout",
          "text": [
            "Extracting ./data/cifar-10-python.tar.gz to ./data\n",
            "Files already downloaded and verified\n"
          ]
        }
      ]
    },
    {
      "cell_type": "code",
      "source": [
        "def train(model, device, train_loader, optimizer, criterion, epoch):\n",
        "    model.eval()\n",
        "    model.fc.train()\n",
        "    train_loss = 0\n",
        "    for batch_idx, (data, target) in enumerate(train_loader): #per ogni batch di dati e target\n",
        "        data, target = data.to(device), target.to(device) #sposto i dati e i target sulla GPU\n",
        "        optimizer.zero_grad() #azzera i gradienti\n",
        "        output = model(data) #calcola l'output della rete (viene eseguito il forward) per ogni dato del batch\n",
        "        loss = criterion(output, target) #calcola la loss\n",
        "        train_loss += loss.item()\n",
        "        loss.backward() #calcola il gradiente\n",
        "        optimizer.step() #aggiorna i pesi\n",
        "        if batch_idx % 500 == 0: #se il numero del batch è divisibile per 500\n",
        "            print('Train Epoch: {} [{}/{} ({:.0f}%)]\\tLoss: {:.6f}'.format(\n",
        "                epoch, batch_idx * len(data), len(train_loader.dataset),\n",
        "                100. * batch_idx / len(train_loader), loss.item()))\n",
        "    train_loss /= len(train_loader)\n",
        "    return train_loss"
      ],
      "metadata": {
        "id": "6Zhw2dL7K3P7"
      },
      "execution_count": 3,
      "outputs": []
    },
    {
      "cell_type": "code",
      "source": [
        "def test(model, device, test_loader, criterion):\n",
        "    model.eval() #setta il modello in evaluation mode\n",
        "    test_loss = 0 #inizializza la loss totale a 0\n",
        "    correct = 0 #inizializza il conteggio delle predizioni corrette a 0\n",
        "    with torch.no_grad(): #non vengono calcolati i gradienti, infatti ciò non serve in fase di testing\n",
        "        for data, target in test_loader: #per ogni batch di dati e target\n",
        "            data, target = data.to(device), target.to(device)\n",
        "            output = model(data)\n",
        "            test_loss += criterion(output, target).item()  # somma la loss del batch alla loss totale\n",
        "            pred = output.argmax(dim=1, keepdim=True)  # ottiene gli indici delle classi predette per ogni dato del batch\n",
        "            correct += pred.eq(target.view_as(pred)).sum().item() #somma il numero di predizioni corrette del batch e\n",
        "                                                                  #lo aggiunge al conteggio totale di predizioni corrette\n",
        "\n",
        "    test_loss /= len(test_loader.dataset) #calcola la loss media sul dataset di test\n",
        "\n",
        "    test_accuracy = correct / len(test_loader.dataset)\n",
        "\n",
        "    print('\\nTest set: Average loss: {:.4f}, Accuracy: {}/{} ({:.0f}%)\\n'.format(\n",
        "        test_loss, correct, len(test_loader.dataset),\n",
        "        100. * test_accuracy))\n",
        "    return test_loss, test_accuracy"
      ],
      "metadata": {
        "id": "-f5VVMMbK4sk"
      },
      "execution_count": 4,
      "outputs": []
    },
    {
      "cell_type": "markdown",
      "source": [
        "## Exercise 0\n",
        "\n",
        "Create a linear probe on CIFAR10 using the pretrained model of torchvision, models.resnet18(pretrained=True).\n",
        "\n",
        "Keep attention to set the model in evaluation mode with model.eval() during the training of the linear layer, since all the layers of the pretrained model should be used in eval mode (eg the batch norm/dropout layers, if present)."
      ],
      "metadata": {
        "id": "OwL68iDenaVn"
      }
    },
    {
      "cell_type": "code",
      "source": [
        "net = models.resnet18(pretrained=True)\n",
        "#net = torch.nn.Sequential(*(list(backbone.children())[:-1]), torch.nn.Flatten())\n",
        "for param in net.parameters():\n",
        "    param.requires_grad = False  # Congela i pesi del modello pre-addestrato"
      ],
      "metadata": {
        "id": "itRSFbknxC6i",
        "colab": {
          "base_uri": "https://localhost:8080/"
        },
        "outputId": "2c01ff7a-299f-4951-8a5a-b5da2f9e5bae"
      },
      "execution_count": null,
      "outputs": [
        {
          "output_type": "stream",
          "name": "stderr",
          "text": [
            "/usr/local/lib/python3.10/dist-packages/torchvision/models/_utils.py:208: UserWarning: The parameter 'pretrained' is deprecated since 0.13 and may be removed in the future, please use 'weights' instead.\n",
            "  warnings.warn(\n",
            "/usr/local/lib/python3.10/dist-packages/torchvision/models/_utils.py:223: UserWarning: Arguments other than a weight enum or `None` for 'weights' are deprecated since 0.13 and may be removed in the future. The current behavior is equivalent to passing `weights=ResNet18_Weights.IMAGENET1K_V1`. You can also use `weights=ResNet18_Weights.DEFAULT` to get the most up-to-date weights.\n",
            "  warnings.warn(msg)\n",
            "Downloading: \"https://download.pytorch.org/models/resnet18-f37072fd.pth\" to /root/.cache/torch/hub/checkpoints/resnet18-f37072fd.pth\n",
            "100%|██████████| 44.7M/44.7M [00:00<00:00, 166MB/s]\n"
          ]
        }
      ]
    },
    {
      "cell_type": "code",
      "source": [
        "fc1 = nn.Linear(512, 10)\n",
        "\n",
        "net.fc = fc1\n",
        "\n",
        "net.to(device)"
      ],
      "metadata": {
        "id": "u4fiF3Wgxqp8",
        "colab": {
          "base_uri": "https://localhost:8080/"
        },
        "outputId": "d23eefac-89d5-4036-835a-a784239f7d92"
      },
      "execution_count": null,
      "outputs": [
        {
          "output_type": "execute_result",
          "data": {
            "text/plain": [
              "ResNet(\n",
              "  (conv1): Conv2d(3, 64, kernel_size=(7, 7), stride=(2, 2), padding=(3, 3), bias=False)\n",
              "  (bn1): BatchNorm2d(64, eps=1e-05, momentum=0.1, affine=True, track_running_stats=True)\n",
              "  (relu): ReLU(inplace=True)\n",
              "  (maxpool): MaxPool2d(kernel_size=3, stride=2, padding=1, dilation=1, ceil_mode=False)\n",
              "  (layer1): Sequential(\n",
              "    (0): BasicBlock(\n",
              "      (conv1): Conv2d(64, 64, kernel_size=(3, 3), stride=(1, 1), padding=(1, 1), bias=False)\n",
              "      (bn1): BatchNorm2d(64, eps=1e-05, momentum=0.1, affine=True, track_running_stats=True)\n",
              "      (relu): ReLU(inplace=True)\n",
              "      (conv2): Conv2d(64, 64, kernel_size=(3, 3), stride=(1, 1), padding=(1, 1), bias=False)\n",
              "      (bn2): BatchNorm2d(64, eps=1e-05, momentum=0.1, affine=True, track_running_stats=True)\n",
              "    )\n",
              "    (1): BasicBlock(\n",
              "      (conv1): Conv2d(64, 64, kernel_size=(3, 3), stride=(1, 1), padding=(1, 1), bias=False)\n",
              "      (bn1): BatchNorm2d(64, eps=1e-05, momentum=0.1, affine=True, track_running_stats=True)\n",
              "      (relu): ReLU(inplace=True)\n",
              "      (conv2): Conv2d(64, 64, kernel_size=(3, 3), stride=(1, 1), padding=(1, 1), bias=False)\n",
              "      (bn2): BatchNorm2d(64, eps=1e-05, momentum=0.1, affine=True, track_running_stats=True)\n",
              "    )\n",
              "  )\n",
              "  (layer2): Sequential(\n",
              "    (0): BasicBlock(\n",
              "      (conv1): Conv2d(64, 128, kernel_size=(3, 3), stride=(2, 2), padding=(1, 1), bias=False)\n",
              "      (bn1): BatchNorm2d(128, eps=1e-05, momentum=0.1, affine=True, track_running_stats=True)\n",
              "      (relu): ReLU(inplace=True)\n",
              "      (conv2): Conv2d(128, 128, kernel_size=(3, 3), stride=(1, 1), padding=(1, 1), bias=False)\n",
              "      (bn2): BatchNorm2d(128, eps=1e-05, momentum=0.1, affine=True, track_running_stats=True)\n",
              "      (downsample): Sequential(\n",
              "        (0): Conv2d(64, 128, kernel_size=(1, 1), stride=(2, 2), bias=False)\n",
              "        (1): BatchNorm2d(128, eps=1e-05, momentum=0.1, affine=True, track_running_stats=True)\n",
              "      )\n",
              "    )\n",
              "    (1): BasicBlock(\n",
              "      (conv1): Conv2d(128, 128, kernel_size=(3, 3), stride=(1, 1), padding=(1, 1), bias=False)\n",
              "      (bn1): BatchNorm2d(128, eps=1e-05, momentum=0.1, affine=True, track_running_stats=True)\n",
              "      (relu): ReLU(inplace=True)\n",
              "      (conv2): Conv2d(128, 128, kernel_size=(3, 3), stride=(1, 1), padding=(1, 1), bias=False)\n",
              "      (bn2): BatchNorm2d(128, eps=1e-05, momentum=0.1, affine=True, track_running_stats=True)\n",
              "    )\n",
              "  )\n",
              "  (layer3): Sequential(\n",
              "    (0): BasicBlock(\n",
              "      (conv1): Conv2d(128, 256, kernel_size=(3, 3), stride=(2, 2), padding=(1, 1), bias=False)\n",
              "      (bn1): BatchNorm2d(256, eps=1e-05, momentum=0.1, affine=True, track_running_stats=True)\n",
              "      (relu): ReLU(inplace=True)\n",
              "      (conv2): Conv2d(256, 256, kernel_size=(3, 3), stride=(1, 1), padding=(1, 1), bias=False)\n",
              "      (bn2): BatchNorm2d(256, eps=1e-05, momentum=0.1, affine=True, track_running_stats=True)\n",
              "      (downsample): Sequential(\n",
              "        (0): Conv2d(128, 256, kernel_size=(1, 1), stride=(2, 2), bias=False)\n",
              "        (1): BatchNorm2d(256, eps=1e-05, momentum=0.1, affine=True, track_running_stats=True)\n",
              "      )\n",
              "    )\n",
              "    (1): BasicBlock(\n",
              "      (conv1): Conv2d(256, 256, kernel_size=(3, 3), stride=(1, 1), padding=(1, 1), bias=False)\n",
              "      (bn1): BatchNorm2d(256, eps=1e-05, momentum=0.1, affine=True, track_running_stats=True)\n",
              "      (relu): ReLU(inplace=True)\n",
              "      (conv2): Conv2d(256, 256, kernel_size=(3, 3), stride=(1, 1), padding=(1, 1), bias=False)\n",
              "      (bn2): BatchNorm2d(256, eps=1e-05, momentum=0.1, affine=True, track_running_stats=True)\n",
              "    )\n",
              "  )\n",
              "  (layer4): Sequential(\n",
              "    (0): BasicBlock(\n",
              "      (conv1): Conv2d(256, 512, kernel_size=(3, 3), stride=(2, 2), padding=(1, 1), bias=False)\n",
              "      (bn1): BatchNorm2d(512, eps=1e-05, momentum=0.1, affine=True, track_running_stats=True)\n",
              "      (relu): ReLU(inplace=True)\n",
              "      (conv2): Conv2d(512, 512, kernel_size=(3, 3), stride=(1, 1), padding=(1, 1), bias=False)\n",
              "      (bn2): BatchNorm2d(512, eps=1e-05, momentum=0.1, affine=True, track_running_stats=True)\n",
              "      (downsample): Sequential(\n",
              "        (0): Conv2d(256, 512, kernel_size=(1, 1), stride=(2, 2), bias=False)\n",
              "        (1): BatchNorm2d(512, eps=1e-05, momentum=0.1, affine=True, track_running_stats=True)\n",
              "      )\n",
              "    )\n",
              "    (1): BasicBlock(\n",
              "      (conv1): Conv2d(512, 512, kernel_size=(3, 3), stride=(1, 1), padding=(1, 1), bias=False)\n",
              "      (bn1): BatchNorm2d(512, eps=1e-05, momentum=0.1, affine=True, track_running_stats=True)\n",
              "      (relu): ReLU(inplace=True)\n",
              "      (conv2): Conv2d(512, 512, kernel_size=(3, 3), stride=(1, 1), padding=(1, 1), bias=False)\n",
              "      (bn2): BatchNorm2d(512, eps=1e-05, momentum=0.1, affine=True, track_running_stats=True)\n",
              "    )\n",
              "  )\n",
              "  (avgpool): AdaptiveAvgPool2d(output_size=(1, 1))\n",
              "  (fc): Linear(in_features=512, out_features=10, bias=True)\n",
              ")"
            ]
          },
          "metadata": {},
          "execution_count": 18
        }
      ]
    },
    {
      "cell_type": "code",
      "source": [
        "# the main loop\n",
        "train_losses = []\n",
        "test_losses = []\n",
        "test_accuracies = []\n",
        "model_state_dict = None\n",
        "criterion = nn.CrossEntropyLoss()\n",
        "optimizer = optim.SGD(net.fc.parameters(), lr=0.1, momentum=0.9, weight_decay=1e-04)\n",
        "epochs = 10\n",
        "\n",
        "for epoch in range(1, epochs + 1):\n",
        "    train_loss = train(net, device, trainloader, optimizer, criterion, epoch)\n",
        "    train_losses.append(train_loss)\n",
        "    test_loss, test_acc = test(net, device, testloader, criterion)\n",
        "    test_losses.append(test_loss)\n",
        "    test_accuracies.append(test_acc)"
      ],
      "metadata": {
        "colab": {
          "base_uri": "https://localhost:8080/"
        },
        "id": "mnkZQ8s8O_Sr",
        "outputId": "eab38b03-a986-43b2-dcfb-ed7a6418f41a"
      },
      "execution_count": null,
      "outputs": [
        {
          "output_type": "stream",
          "name": "stdout",
          "text": [
            "Train Epoch: 1 [0/50000 (0%)]\tLoss: 2.342856\n",
            "Train Epoch: 1 [32000/50000 (64%)]\tLoss: 3.363060\n",
            "\n",
            "Test set: Average loss: 0.0560, Accuracy: 4807/10000 (48%)\n",
            "\n",
            "Train Epoch: 2 [0/50000 (0%)]\tLoss: 3.043091\n",
            "Train Epoch: 2 [32000/50000 (64%)]\tLoss: 2.641565\n",
            "\n",
            "Test set: Average loss: 0.0464, Accuracy: 5419/10000 (54%)\n",
            "\n",
            "Train Epoch: 3 [0/50000 (0%)]\tLoss: 2.183935\n",
            "Train Epoch: 3 [32000/50000 (64%)]\tLoss: 3.432685\n",
            "\n",
            "Test set: Average loss: 0.0455, Accuracy: 5151/10000 (52%)\n",
            "\n",
            "Train Epoch: 4 [0/50000 (0%)]\tLoss: 2.932463\n",
            "Train Epoch: 4 [32000/50000 (64%)]\tLoss: 2.679817\n",
            "\n",
            "Test set: Average loss: 0.0472, Accuracy: 5224/10000 (52%)\n",
            "\n",
            "Train Epoch: 5 [0/50000 (0%)]\tLoss: 2.603265\n",
            "Train Epoch: 5 [32000/50000 (64%)]\tLoss: 2.756937\n",
            "\n",
            "Test set: Average loss: 0.0397, Accuracy: 5508/10000 (55%)\n",
            "\n",
            "Train Epoch: 6 [0/50000 (0%)]\tLoss: 3.247018\n",
            "Train Epoch: 6 [32000/50000 (64%)]\tLoss: 2.463903\n",
            "\n",
            "Test set: Average loss: 0.0524, Accuracy: 4914/10000 (49%)\n",
            "\n",
            "Train Epoch: 7 [0/50000 (0%)]\tLoss: 3.368568\n",
            "Train Epoch: 7 [32000/50000 (64%)]\tLoss: 2.528778\n",
            "\n",
            "Test set: Average loss: 0.0559, Accuracy: 5121/10000 (51%)\n",
            "\n",
            "Train Epoch: 8 [0/50000 (0%)]\tLoss: 3.506361\n",
            "Train Epoch: 8 [32000/50000 (64%)]\tLoss: 2.594533\n",
            "\n",
            "Test set: Average loss: 0.0462, Accuracy: 5325/10000 (53%)\n",
            "\n",
            "Train Epoch: 9 [0/50000 (0%)]\tLoss: 2.886381\n",
            "Train Epoch: 9 [32000/50000 (64%)]\tLoss: 2.618351\n",
            "\n",
            "Test set: Average loss: 0.0621, Accuracy: 4551/10000 (46%)\n",
            "\n",
            "Train Epoch: 10 [0/50000 (0%)]\tLoss: 5.706920\n",
            "Train Epoch: 10 [32000/50000 (64%)]\tLoss: 3.388003\n",
            "\n",
            "Test set: Average loss: 0.0479, Accuracy: 4968/10000 (50%)\n",
            "\n"
          ]
        }
      ]
    },
    {
      "cell_type": "markdown",
      "source": [
        "## Exercise 1\n",
        "\n",
        "Compare the linear evaluation with the MLP strategy.\n",
        "\n",
        "Implement now a MLP on top of the model and train just this part.\n",
        "Also in this case keep attention to set the model in evaluation mode with model.eval() during the training of the linear layer, since all the layers of the pretrained model should be used in eval mode (eg the batch norm/dropout layers, if present)."
      ],
      "metadata": {
        "id": "Ab7t51_toByk"
      }
    },
    {
      "cell_type": "code",
      "source": [
        "net = models.resnet18(pretrained=True)\n",
        "\n",
        "fc1 = nn.Linear(512, 256)\n",
        "fc2 = nn.Linear(256, 128)\n",
        "fc3 = nn.Linear(128, 10)\n",
        "\n",
        "# Replace the model's classifier with a new sequential layer\n",
        "# that includes the new fc1 and the modified fc\n",
        "net.fc = nn.Sequential(\n",
        "    fc1,\n",
        "    nn.ReLU(),   # Optional: Add an activation function like ReLU\n",
        "    fc2,\n",
        "    nn.ReLU(),\n",
        "    fc3\n",
        ")\n",
        "net.to(device)"
      ],
      "metadata": {
        "colab": {
          "base_uri": "https://localhost:8080/"
        },
        "id": "pbJfm0cjljiO",
        "outputId": "aac739ca-8fdf-4bf4-c256-7e2789b8ffe1"
      },
      "execution_count": null,
      "outputs": [
        {
          "output_type": "stream",
          "name": "stderr",
          "text": [
            "/usr/local/lib/python3.10/dist-packages/torchvision/models/_utils.py:208: UserWarning: The parameter 'pretrained' is deprecated since 0.13 and may be removed in the future, please use 'weights' instead.\n",
            "  warnings.warn(\n",
            "/usr/local/lib/python3.10/dist-packages/torchvision/models/_utils.py:223: UserWarning: Arguments other than a weight enum or `None` for 'weights' are deprecated since 0.13 and may be removed in the future. The current behavior is equivalent to passing `weights=ResNet18_Weights.IMAGENET1K_V1`. You can also use `weights=ResNet18_Weights.DEFAULT` to get the most up-to-date weights.\n",
            "  warnings.warn(msg)\n"
          ]
        },
        {
          "output_type": "execute_result",
          "data": {
            "text/plain": [
              "ResNet(\n",
              "  (conv1): Conv2d(3, 64, kernel_size=(7, 7), stride=(2, 2), padding=(3, 3), bias=False)\n",
              "  (bn1): BatchNorm2d(64, eps=1e-05, momentum=0.1, affine=True, track_running_stats=True)\n",
              "  (relu): ReLU(inplace=True)\n",
              "  (maxpool): MaxPool2d(kernel_size=3, stride=2, padding=1, dilation=1, ceil_mode=False)\n",
              "  (layer1): Sequential(\n",
              "    (0): BasicBlock(\n",
              "      (conv1): Conv2d(64, 64, kernel_size=(3, 3), stride=(1, 1), padding=(1, 1), bias=False)\n",
              "      (bn1): BatchNorm2d(64, eps=1e-05, momentum=0.1, affine=True, track_running_stats=True)\n",
              "      (relu): ReLU(inplace=True)\n",
              "      (conv2): Conv2d(64, 64, kernel_size=(3, 3), stride=(1, 1), padding=(1, 1), bias=False)\n",
              "      (bn2): BatchNorm2d(64, eps=1e-05, momentum=0.1, affine=True, track_running_stats=True)\n",
              "    )\n",
              "    (1): BasicBlock(\n",
              "      (conv1): Conv2d(64, 64, kernel_size=(3, 3), stride=(1, 1), padding=(1, 1), bias=False)\n",
              "      (bn1): BatchNorm2d(64, eps=1e-05, momentum=0.1, affine=True, track_running_stats=True)\n",
              "      (relu): ReLU(inplace=True)\n",
              "      (conv2): Conv2d(64, 64, kernel_size=(3, 3), stride=(1, 1), padding=(1, 1), bias=False)\n",
              "      (bn2): BatchNorm2d(64, eps=1e-05, momentum=0.1, affine=True, track_running_stats=True)\n",
              "    )\n",
              "  )\n",
              "  (layer2): Sequential(\n",
              "    (0): BasicBlock(\n",
              "      (conv1): Conv2d(64, 128, kernel_size=(3, 3), stride=(2, 2), padding=(1, 1), bias=False)\n",
              "      (bn1): BatchNorm2d(128, eps=1e-05, momentum=0.1, affine=True, track_running_stats=True)\n",
              "      (relu): ReLU(inplace=True)\n",
              "      (conv2): Conv2d(128, 128, kernel_size=(3, 3), stride=(1, 1), padding=(1, 1), bias=False)\n",
              "      (bn2): BatchNorm2d(128, eps=1e-05, momentum=0.1, affine=True, track_running_stats=True)\n",
              "      (downsample): Sequential(\n",
              "        (0): Conv2d(64, 128, kernel_size=(1, 1), stride=(2, 2), bias=False)\n",
              "        (1): BatchNorm2d(128, eps=1e-05, momentum=0.1, affine=True, track_running_stats=True)\n",
              "      )\n",
              "    )\n",
              "    (1): BasicBlock(\n",
              "      (conv1): Conv2d(128, 128, kernel_size=(3, 3), stride=(1, 1), padding=(1, 1), bias=False)\n",
              "      (bn1): BatchNorm2d(128, eps=1e-05, momentum=0.1, affine=True, track_running_stats=True)\n",
              "      (relu): ReLU(inplace=True)\n",
              "      (conv2): Conv2d(128, 128, kernel_size=(3, 3), stride=(1, 1), padding=(1, 1), bias=False)\n",
              "      (bn2): BatchNorm2d(128, eps=1e-05, momentum=0.1, affine=True, track_running_stats=True)\n",
              "    )\n",
              "  )\n",
              "  (layer3): Sequential(\n",
              "    (0): BasicBlock(\n",
              "      (conv1): Conv2d(128, 256, kernel_size=(3, 3), stride=(2, 2), padding=(1, 1), bias=False)\n",
              "      (bn1): BatchNorm2d(256, eps=1e-05, momentum=0.1, affine=True, track_running_stats=True)\n",
              "      (relu): ReLU(inplace=True)\n",
              "      (conv2): Conv2d(256, 256, kernel_size=(3, 3), stride=(1, 1), padding=(1, 1), bias=False)\n",
              "      (bn2): BatchNorm2d(256, eps=1e-05, momentum=0.1, affine=True, track_running_stats=True)\n",
              "      (downsample): Sequential(\n",
              "        (0): Conv2d(128, 256, kernel_size=(1, 1), stride=(2, 2), bias=False)\n",
              "        (1): BatchNorm2d(256, eps=1e-05, momentum=0.1, affine=True, track_running_stats=True)\n",
              "      )\n",
              "    )\n",
              "    (1): BasicBlock(\n",
              "      (conv1): Conv2d(256, 256, kernel_size=(3, 3), stride=(1, 1), padding=(1, 1), bias=False)\n",
              "      (bn1): BatchNorm2d(256, eps=1e-05, momentum=0.1, affine=True, track_running_stats=True)\n",
              "      (relu): ReLU(inplace=True)\n",
              "      (conv2): Conv2d(256, 256, kernel_size=(3, 3), stride=(1, 1), padding=(1, 1), bias=False)\n",
              "      (bn2): BatchNorm2d(256, eps=1e-05, momentum=0.1, affine=True, track_running_stats=True)\n",
              "    )\n",
              "  )\n",
              "  (layer4): Sequential(\n",
              "    (0): BasicBlock(\n",
              "      (conv1): Conv2d(256, 512, kernel_size=(3, 3), stride=(2, 2), padding=(1, 1), bias=False)\n",
              "      (bn1): BatchNorm2d(512, eps=1e-05, momentum=0.1, affine=True, track_running_stats=True)\n",
              "      (relu): ReLU(inplace=True)\n",
              "      (conv2): Conv2d(512, 512, kernel_size=(3, 3), stride=(1, 1), padding=(1, 1), bias=False)\n",
              "      (bn2): BatchNorm2d(512, eps=1e-05, momentum=0.1, affine=True, track_running_stats=True)\n",
              "      (downsample): Sequential(\n",
              "        (0): Conv2d(256, 512, kernel_size=(1, 1), stride=(2, 2), bias=False)\n",
              "        (1): BatchNorm2d(512, eps=1e-05, momentum=0.1, affine=True, track_running_stats=True)\n",
              "      )\n",
              "    )\n",
              "    (1): BasicBlock(\n",
              "      (conv1): Conv2d(512, 512, kernel_size=(3, 3), stride=(1, 1), padding=(1, 1), bias=False)\n",
              "      (bn1): BatchNorm2d(512, eps=1e-05, momentum=0.1, affine=True, track_running_stats=True)\n",
              "      (relu): ReLU(inplace=True)\n",
              "      (conv2): Conv2d(512, 512, kernel_size=(3, 3), stride=(1, 1), padding=(1, 1), bias=False)\n",
              "      (bn2): BatchNorm2d(512, eps=1e-05, momentum=0.1, affine=True, track_running_stats=True)\n",
              "    )\n",
              "  )\n",
              "  (avgpool): AdaptiveAvgPool2d(output_size=(1, 1))\n",
              "  (fc): Sequential(\n",
              "    (0): Linear(in_features=512, out_features=256, bias=True)\n",
              "    (1): ReLU()\n",
              "    (2): Linear(in_features=256, out_features=128, bias=True)\n",
              "    (3): ReLU()\n",
              "    (4): Linear(in_features=128, out_features=10, bias=True)\n",
              "  )\n",
              ")"
            ]
          },
          "metadata": {},
          "execution_count": 19
        }
      ]
    },
    {
      "cell_type": "code",
      "source": [
        "for param in net.parameters():\n",
        "    param.requires_grad = False  # Congela tutte le parti del modello\n",
        "\n",
        "# Sblocca solo i parametri del nuovo MLP\n",
        "for param in net.fc.parameters():\n",
        "    param.requires_grad = True"
      ],
      "metadata": {
        "id": "UWgbeQ9Qm14S"
      },
      "execution_count": null,
      "outputs": []
    },
    {
      "cell_type": "code",
      "source": [
        "# the main loop\n",
        "train_losses = []\n",
        "test_losses = []\n",
        "test_accuracies = []\n",
        "model_state_dict = None\n",
        "criterion = nn.CrossEntropyLoss()\n",
        "optimizer = optim.SGD(net.fc.parameters(), lr=0.1, momentum=0.9, weight_decay=1e-04)\n",
        "epochs = 10\n",
        "\n",
        "for epoch in range(1, epochs + 1):\n",
        "    train_loss = train(net, device, trainloader, optimizer, criterion, epoch)\n",
        "    train_losses.append(train_loss)\n",
        "    test_loss, test_acc = test(net, device, testloader, criterion)\n",
        "    test_losses.append(test_loss)\n",
        "    test_accuracies.append(test_acc)"
      ],
      "metadata": {
        "colab": {
          "base_uri": "https://localhost:8080/"
        },
        "id": "0SuH5oHroggW",
        "outputId": "74b7111b-0427-4671-b1dd-c1cc26e60b58"
      },
      "execution_count": null,
      "outputs": [
        {
          "output_type": "stream",
          "name": "stdout",
          "text": [
            "Train Epoch: 1 [0/50000 (0%)]\tLoss: 2.317933\n",
            "Train Epoch: 1 [32000/50000 (64%)]\tLoss: 1.488230\n",
            "\n",
            "Test set: Average loss: 0.0228, Accuracy: 5146/10000 (51%)\n",
            "\n",
            "Train Epoch: 2 [0/50000 (0%)]\tLoss: 1.345713\n",
            "Train Epoch: 2 [32000/50000 (64%)]\tLoss: 1.511830\n",
            "\n",
            "Test set: Average loss: 0.0219, Accuracy: 5316/10000 (53%)\n",
            "\n",
            "Train Epoch: 3 [0/50000 (0%)]\tLoss: 1.521796\n",
            "Train Epoch: 3 [32000/50000 (64%)]\tLoss: 1.311085\n",
            "\n",
            "Test set: Average loss: 0.0221, Accuracy: 5485/10000 (55%)\n",
            "\n",
            "Train Epoch: 4 [0/50000 (0%)]\tLoss: 1.644543\n",
            "Train Epoch: 4 [32000/50000 (64%)]\tLoss: 1.473386\n",
            "\n",
            "Test set: Average loss: 0.0213, Accuracy: 5501/10000 (55%)\n",
            "\n",
            "Train Epoch: 5 [0/50000 (0%)]\tLoss: 1.410389\n",
            "Train Epoch: 5 [32000/50000 (64%)]\tLoss: 1.367382\n",
            "\n",
            "Test set: Average loss: 0.0216, Accuracy: 5554/10000 (56%)\n",
            "\n",
            "Train Epoch: 6 [0/50000 (0%)]\tLoss: 1.350406\n",
            "Train Epoch: 6 [32000/50000 (64%)]\tLoss: 1.174793\n",
            "\n",
            "Test set: Average loss: 0.0226, Accuracy: 5445/10000 (54%)\n",
            "\n",
            "Train Epoch: 7 [0/50000 (0%)]\tLoss: 1.600395\n",
            "Train Epoch: 7 [32000/50000 (64%)]\tLoss: 1.304446\n",
            "\n",
            "Test set: Average loss: 0.0220, Accuracy: 5569/10000 (56%)\n",
            "\n",
            "Train Epoch: 8 [0/50000 (0%)]\tLoss: 1.342592\n",
            "Train Epoch: 8 [32000/50000 (64%)]\tLoss: 1.068394\n",
            "\n",
            "Test set: Average loss: 0.0217, Accuracy: 5482/10000 (55%)\n",
            "\n",
            "Train Epoch: 9 [0/50000 (0%)]\tLoss: 1.344161\n",
            "Train Epoch: 9 [32000/50000 (64%)]\tLoss: 1.623631\n",
            "\n",
            "Test set: Average loss: 0.0225, Accuracy: 5504/10000 (55%)\n",
            "\n",
            "Train Epoch: 10 [0/50000 (0%)]\tLoss: 1.680499\n",
            "Train Epoch: 10 [32000/50000 (64%)]\tLoss: 1.558929\n",
            "\n",
            "Test set: Average loss: 0.0214, Accuracy: 5545/10000 (55%)\n",
            "\n"
          ]
        }
      ]
    },
    {
      "cell_type": "markdown",
      "source": [
        "## Exercise 2\n",
        "\n",
        "Implement the KNN classifier. Test several values of k."
      ],
      "metadata": {
        "id": "25EEY_WIoYfa"
      }
    },
    {
      "cell_type": "code",
      "source": [
        "net = models.resnet18(pretrained=True)\n",
        "net.fc = nn.Identity()\n",
        "for param in net.parameters():\n",
        "    param.requires_grad = False  # Congela i pesi del modello pre-addestrato\n",
        "\n",
        "net.to(device)"
      ],
      "metadata": {
        "id": "5MWH0aidVzDm",
        "colab": {
          "base_uri": "https://localhost:8080/"
        },
        "outputId": "7eb94091-bcb7-4306-e04b-e3a3bd77828c"
      },
      "execution_count": 15,
      "outputs": [
        {
          "output_type": "stream",
          "name": "stderr",
          "text": [
            "/usr/local/lib/python3.10/dist-packages/torchvision/models/_utils.py:208: UserWarning: The parameter 'pretrained' is deprecated since 0.13 and may be removed in the future, please use 'weights' instead.\n",
            "  warnings.warn(\n",
            "/usr/local/lib/python3.10/dist-packages/torchvision/models/_utils.py:223: UserWarning: Arguments other than a weight enum or `None` for 'weights' are deprecated since 0.13 and may be removed in the future. The current behavior is equivalent to passing `weights=ResNet18_Weights.IMAGENET1K_V1`. You can also use `weights=ResNet18_Weights.DEFAULT` to get the most up-to-date weights.\n",
            "  warnings.warn(msg)\n"
          ]
        },
        {
          "output_type": "execute_result",
          "data": {
            "text/plain": [
              "ResNet(\n",
              "  (conv1): Conv2d(3, 64, kernel_size=(7, 7), stride=(2, 2), padding=(3, 3), bias=False)\n",
              "  (bn1): BatchNorm2d(64, eps=1e-05, momentum=0.1, affine=True, track_running_stats=True)\n",
              "  (relu): ReLU(inplace=True)\n",
              "  (maxpool): MaxPool2d(kernel_size=3, stride=2, padding=1, dilation=1, ceil_mode=False)\n",
              "  (layer1): Sequential(\n",
              "    (0): BasicBlock(\n",
              "      (conv1): Conv2d(64, 64, kernel_size=(3, 3), stride=(1, 1), padding=(1, 1), bias=False)\n",
              "      (bn1): BatchNorm2d(64, eps=1e-05, momentum=0.1, affine=True, track_running_stats=True)\n",
              "      (relu): ReLU(inplace=True)\n",
              "      (conv2): Conv2d(64, 64, kernel_size=(3, 3), stride=(1, 1), padding=(1, 1), bias=False)\n",
              "      (bn2): BatchNorm2d(64, eps=1e-05, momentum=0.1, affine=True, track_running_stats=True)\n",
              "    )\n",
              "    (1): BasicBlock(\n",
              "      (conv1): Conv2d(64, 64, kernel_size=(3, 3), stride=(1, 1), padding=(1, 1), bias=False)\n",
              "      (bn1): BatchNorm2d(64, eps=1e-05, momentum=0.1, affine=True, track_running_stats=True)\n",
              "      (relu): ReLU(inplace=True)\n",
              "      (conv2): Conv2d(64, 64, kernel_size=(3, 3), stride=(1, 1), padding=(1, 1), bias=False)\n",
              "      (bn2): BatchNorm2d(64, eps=1e-05, momentum=0.1, affine=True, track_running_stats=True)\n",
              "    )\n",
              "  )\n",
              "  (layer2): Sequential(\n",
              "    (0): BasicBlock(\n",
              "      (conv1): Conv2d(64, 128, kernel_size=(3, 3), stride=(2, 2), padding=(1, 1), bias=False)\n",
              "      (bn1): BatchNorm2d(128, eps=1e-05, momentum=0.1, affine=True, track_running_stats=True)\n",
              "      (relu): ReLU(inplace=True)\n",
              "      (conv2): Conv2d(128, 128, kernel_size=(3, 3), stride=(1, 1), padding=(1, 1), bias=False)\n",
              "      (bn2): BatchNorm2d(128, eps=1e-05, momentum=0.1, affine=True, track_running_stats=True)\n",
              "      (downsample): Sequential(\n",
              "        (0): Conv2d(64, 128, kernel_size=(1, 1), stride=(2, 2), bias=False)\n",
              "        (1): BatchNorm2d(128, eps=1e-05, momentum=0.1, affine=True, track_running_stats=True)\n",
              "      )\n",
              "    )\n",
              "    (1): BasicBlock(\n",
              "      (conv1): Conv2d(128, 128, kernel_size=(3, 3), stride=(1, 1), padding=(1, 1), bias=False)\n",
              "      (bn1): BatchNorm2d(128, eps=1e-05, momentum=0.1, affine=True, track_running_stats=True)\n",
              "      (relu): ReLU(inplace=True)\n",
              "      (conv2): Conv2d(128, 128, kernel_size=(3, 3), stride=(1, 1), padding=(1, 1), bias=False)\n",
              "      (bn2): BatchNorm2d(128, eps=1e-05, momentum=0.1, affine=True, track_running_stats=True)\n",
              "    )\n",
              "  )\n",
              "  (layer3): Sequential(\n",
              "    (0): BasicBlock(\n",
              "      (conv1): Conv2d(128, 256, kernel_size=(3, 3), stride=(2, 2), padding=(1, 1), bias=False)\n",
              "      (bn1): BatchNorm2d(256, eps=1e-05, momentum=0.1, affine=True, track_running_stats=True)\n",
              "      (relu): ReLU(inplace=True)\n",
              "      (conv2): Conv2d(256, 256, kernel_size=(3, 3), stride=(1, 1), padding=(1, 1), bias=False)\n",
              "      (bn2): BatchNorm2d(256, eps=1e-05, momentum=0.1, affine=True, track_running_stats=True)\n",
              "      (downsample): Sequential(\n",
              "        (0): Conv2d(128, 256, kernel_size=(1, 1), stride=(2, 2), bias=False)\n",
              "        (1): BatchNorm2d(256, eps=1e-05, momentum=0.1, affine=True, track_running_stats=True)\n",
              "      )\n",
              "    )\n",
              "    (1): BasicBlock(\n",
              "      (conv1): Conv2d(256, 256, kernel_size=(3, 3), stride=(1, 1), padding=(1, 1), bias=False)\n",
              "      (bn1): BatchNorm2d(256, eps=1e-05, momentum=0.1, affine=True, track_running_stats=True)\n",
              "      (relu): ReLU(inplace=True)\n",
              "      (conv2): Conv2d(256, 256, kernel_size=(3, 3), stride=(1, 1), padding=(1, 1), bias=False)\n",
              "      (bn2): BatchNorm2d(256, eps=1e-05, momentum=0.1, affine=True, track_running_stats=True)\n",
              "    )\n",
              "  )\n",
              "  (layer4): Sequential(\n",
              "    (0): BasicBlock(\n",
              "      (conv1): Conv2d(256, 512, kernel_size=(3, 3), stride=(2, 2), padding=(1, 1), bias=False)\n",
              "      (bn1): BatchNorm2d(512, eps=1e-05, momentum=0.1, affine=True, track_running_stats=True)\n",
              "      (relu): ReLU(inplace=True)\n",
              "      (conv2): Conv2d(512, 512, kernel_size=(3, 3), stride=(1, 1), padding=(1, 1), bias=False)\n",
              "      (bn2): BatchNorm2d(512, eps=1e-05, momentum=0.1, affine=True, track_running_stats=True)\n",
              "      (downsample): Sequential(\n",
              "        (0): Conv2d(256, 512, kernel_size=(1, 1), stride=(2, 2), bias=False)\n",
              "        (1): BatchNorm2d(512, eps=1e-05, momentum=0.1, affine=True, track_running_stats=True)\n",
              "      )\n",
              "    )\n",
              "    (1): BasicBlock(\n",
              "      (conv1): Conv2d(512, 512, kernel_size=(3, 3), stride=(1, 1), padding=(1, 1), bias=False)\n",
              "      (bn1): BatchNorm2d(512, eps=1e-05, momentum=0.1, affine=True, track_running_stats=True)\n",
              "      (relu): ReLU(inplace=True)\n",
              "      (conv2): Conv2d(512, 512, kernel_size=(3, 3), stride=(1, 1), padding=(1, 1), bias=False)\n",
              "      (bn2): BatchNorm2d(512, eps=1e-05, momentum=0.1, affine=True, track_running_stats=True)\n",
              "    )\n",
              "  )\n",
              "  (avgpool): AdaptiveAvgPool2d(output_size=(1, 1))\n",
              "  (fc): Identity()\n",
              ")"
            ]
          },
          "metadata": {},
          "execution_count": 15
        }
      ]
    },
    {
      "cell_type": "code",
      "source": [
        "features=[]\n",
        "labels=[]\n",
        "\n",
        "for batch_idx, (data, target) in enumerate(trainloader):\n",
        "    data=data.to(device)\n",
        "    with torch.no_grad():\n",
        "        feature_batch=net(data)\n",
        "    features.append(feature_batch.cpu())\n",
        "    labels.append(target.cpu())\n",
        "\n",
        "\n",
        "features=torch.cat(features, dim=0)\n",
        "labels=torch.cat(labels, dim=0).numpy()\n",
        "\n",
        "mean = features.mean(dim=0)\n",
        "std = features.std(dim=0)\n",
        "\n",
        "# Normalizza le feature\n",
        "features = ((features - mean) / std).numpy()"
      ],
      "metadata": {
        "id": "XPOtNpt9dcyO"
      },
      "execution_count": 25,
      "outputs": []
    },
    {
      "cell_type": "code",
      "source": [
        "k=30\n",
        "test_features=[]\n",
        "test_labels=[]\n",
        "\n",
        "\n",
        "knn=KNeighborsClassifier(n_neighbors=k, metric='cosine')\n",
        "knn.fit(features, labels)\n",
        "\n",
        "for batch_idx, (data, target) in enumerate(testloader):\n",
        "    data=data.to(device)\n",
        "    with torch.no_grad():\n",
        "        feature_batch=net(data)\n",
        "    test_features.append(feature_batch.cpu())\n",
        "    test_labels.append(target.cpu())\n",
        "\n",
        "test_features=torch.cat(test_features, dim=0)\n",
        "test_labels=torch.cat(test_labels, dim=0).numpy()\n",
        "\n",
        "mean = test_features.mean(dim=0)\n",
        "std = test_features.std(dim=0)\n",
        "\n",
        "# Normalizza le feature\n",
        "test_features = ((test_features - mean) / std).numpy()\n",
        "\n",
        "test_accuracy=knn.score(test_features, test_labels)\n",
        "\n",
        "print(f\"Test Accuracy: {test_accuracy * 100:.2f}%\")\n"
      ],
      "metadata": {
        "colab": {
          "base_uri": "https://localhost:8080/"
        },
        "id": "KZFGk78WcC3L",
        "outputId": "4eb845ae-c7c2-430a-cbe6-c3917aba150d"
      },
      "execution_count": 30,
      "outputs": [
        {
          "output_type": "stream",
          "name": "stdout",
          "text": [
            "Test Accuracy: 35.47%\n"
          ]
        }
      ]
    },
    {
      "cell_type": "code",
      "source": [],
      "metadata": {
        "id": "NK4lA6OgnN7Y"
      },
      "execution_count": null,
      "outputs": []
    }
  ]
}